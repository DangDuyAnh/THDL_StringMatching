{
  "nbformat": 4,
  "nbformat_minor": 0,
  "metadata": {
    "colab": {
      "name": "Naive Bayes",
      "provenance": []
    },
    "kernelspec": {
      "name": "python3",
      "display_name": "Python 3"
    },
    "language_info": {
      "name": "python"
    }
  },
  "cells": [
    {
      "cell_type": "code",
      "execution_count": null,
      "metadata": {
        "id": "E7vYLZzz47ZT"
      },
      "outputs": [],
      "source": [
        "import os\n",
        "import matplotlib.pyplot as plt\n",
        "import numpy as np\n",
        "import pandas as pd\n",
        "# from pyvi import ViTokenizer\n",
        "\n",
        "from sklearn.model_selection import learning_curve\n",
        "from sklearn.feature_extraction.text import CountVectorizer, TfidfVectorizer\n",
        "from sklearn.feature_extraction.text import TfidfTransformer\n",
        "from sklearn.model_selection import train_test_split, GridSearchCV\n",
        "from sklearn.naive_bayes import MultinomialNB\n",
        "from sklearn.metrics import classification_report\n",
        "from sklearn.pipeline import Pipeline\n",
        "import re"
      ]
    },
    {
      "cell_type": "code",
      "source": [
        "!pip install py-stringmatching"
      ],
      "metadata": {
        "colab": {
          "base_uri": "https://localhost:8080/"
        },
        "id": "1MPFUoejlKB5",
        "outputId": "8894729f-572d-4562-8984-5d3153bd02dd"
      },
      "execution_count": null,
      "outputs": [
        {
          "output_type": "stream",
          "name": "stdout",
          "text": [
            "Looking in indexes: https://pypi.org/simple, https://us-python.pkg.dev/colab-wheels/public/simple/\n",
            "Collecting py-stringmatching\n",
            "  Downloading py_stringmatching-0.4.2.tar.gz (661 kB)\n",
            "\u001b[K     |████████████████████████████████| 661 kB 5.1 MB/s \n",
            "\u001b[?25hRequirement already satisfied: numpy>=1.7.0 in /usr/local/lib/python3.7/dist-packages (from py-stringmatching) (1.21.6)\n",
            "Requirement already satisfied: six in /usr/local/lib/python3.7/dist-packages (from py-stringmatching) (1.15.0)\n",
            "Building wheels for collected packages: py-stringmatching\n",
            "  Building wheel for py-stringmatching (setup.py) ... \u001b[?25l\u001b[?25hdone\n",
            "  Created wheel for py-stringmatching: filename=py_stringmatching-0.4.2-cp37-cp37m-linux_x86_64.whl size=2055575 sha256=664c0479a4ee7eea5ad22520898f0f940cf2693605f08d04098348332c3623cb\n",
            "  Stored in directory: /root/.cache/pip/wheels/7e/12/86/46f9378ae730550dd2f89cad50880e70d66cabedd90074f2d2\n",
            "Successfully built py-stringmatching\n",
            "Installing collected packages: py-stringmatching\n",
            "Successfully installed py-stringmatching-0.4.2\n"
          ]
        }
      ]
    },
    {
      "cell_type": "code",
      "source": [
        "import py_stringmatching as sm"
      ],
      "metadata": {
        "id": "YxGkzU77lM0l"
      },
      "execution_count": null,
      "outputs": []
    },
    {
      "cell_type": "markdown",
      "source": [
        "#1 Huấn luyện mô hình Naive Bayes cho các cột có dữ liệu dạng String"
      ],
      "metadata": {
        "id": "-JhSny6_8a3e"
      }
    },
    {
      "cell_type": "code",
      "source": [
        "#read File\n",
        "data = pd.read_csv('/content/drive/MyDrive/My THDL/Bat-dong-san2.csv')\n",
        "print('Các nhãn và số dữ liệu non-NaN tương ứng')\n",
        "data.count()"
      ],
      "metadata": {
        "colab": {
          "base_uri": "https://localhost:8080/"
        },
        "id": "LIU7FU737HNO",
        "outputId": "f9425ef6-5245-47f0-cc0b-fed0b64fd166"
      },
      "execution_count": null,
      "outputs": [
        {
          "output_type": "stream",
          "name": "stdout",
          "text": [
            "Các nhãn và số dữ liệu non-NaN tương ứng\n"
          ]
        },
        {
          "output_type": "execute_result",
          "data": {
            "text/plain": [
              "Số điện thoại     2376\n",
              "Địa chỉ           2376\n",
              "Mô tả             2376\n",
              "Ngày đăng         2376\n",
              "Số tầng            588\n",
              "Số phòng ngủ      1267\n",
              "Tiêu đề           2376\n",
              "Hướng ban công     536\n",
              "Pháp lý           1525\n",
              "Mức giá           2376\n",
              "Diện tích         2374\n",
              "Ảnh               2226\n",
              "Số toilet         1159\n",
              "Mặt tiền           817\n",
              "Hướng nhà          820\n",
              "Mã tin            2376\n",
              "Ngày hết hạn      2376\n",
              "Đường vào          810\n",
              "Nội thất           726\n",
              "Tên người bán     2376\n",
              "Original Link     2376\n",
              "dtype: int64"
            ]
          },
          "metadata": {},
          "execution_count": 2
        }
      ]
    },
    {
      "cell_type": "code",
      "source": [
        "pd.set_option('display.max_columns', None)\n",
        "data.head()"
      ],
      "metadata": {
        "colab": {
          "base_uri": "https://localhost:8080/",
          "height": 1000
        },
        "id": "PpIneNO59b3L",
        "outputId": "c165215d-6dcf-4bcb-dbdb-e5978a69a991"
      },
      "execution_count": null,
      "outputs": [
        {
          "output_type": "execute_result",
          "data": {
            "text/plain": [
              "  Số điện thoại                                            Địa chỉ  \\\n",
              "0    0979016016              Xã Tân Lập, Hàm Thuận Nam, Bình Thuận   \n",
              "1    0979016016  Đường Quang Trung, Phường Tăng Nhơn Phú B, Quậ...   \n",
              "2    0979016016  Đường ĐT 716, Xã Hoà Thắng, Bắc Bình, Bình Thu...   \n",
              "3    0901478123       Dự án Richmond Quy Nhơn, Quy Nhơn, Bình Định   \n",
              "4    0348666658  Dự án Mê Linh - Thanh Lâm - Đại Thịnh, Mê Linh...   \n",
              "\n",
              "                                               Mô tả   Ngày đăng Số tầng  \\\n",
              "0  \\r\\n                Đất ngay đường dẫn cao tốc...  27/06/2022     NaN   \n",
              "1  \\r\\n                Sở hữu đất rộng ngay UBND ...  27/06/2022     NaN   \n",
              "2  \\r\\n                Siêu phẩm đất view biển nằ...  27/06/2022     NaN   \n",
              "3  \\r\\n                - Tập đoàn Hưng Thịnh mở b...  27/06/2022     NaN   \n",
              "4  \\r\\n                Chính chủ hiện nay tôi có ...  27/06/2022  4 tầng   \n",
              "\n",
              "  Số phòng ngủ                                            Tiêu đề  \\\n",
              "0          NaN   Bán 10 mẫu ngay mặt tiền đường dẫn cao tốc Ph...   \n",
              "1          NaN   Tôi không bán đất, tôi chỉ muốn khoe tôi có 2...   \n",
              "2          NaN   Tôi không bán Đất. Tôi chỉ muốn khoe tôi có 3...   \n",
              "3          NaN   Hưng Thịnh mở bán 40 lô đất nền đô thị kiểu m...   \n",
              "4      4 phòng   Quỹ 5 căn góc liền kề, biệt thự trục chính, m...   \n",
              "\n",
              "  Hướng ban công           Pháp lý     Mức giá Diện tích  \\\n",
              "0            NaN    Sổ đỏ/ Sổ hồng  Thỏa thuận  93252 m²   \n",
              "1            NaN    Sổ đỏ/ Sổ hồng  Thỏa thuận    238 m²   \n",
              "2            NaN    Sổ đỏ/ Sổ hồng  Thỏa thuận   4169 m²   \n",
              "3            NaN  Hợp đồng mua bán      5.3 tỷ    100 m²   \n",
              "4            NaN               NaN      7.3 tỷ    111 m²   \n",
              "\n",
              "                                                 Ảnh Số toilet Mặt tiền  \\\n",
              "0  https://file4.batdongsan.com.vn/resize/200x200...       NaN    500 m   \n",
              "1  https://file4.batdongsan.com.vn/resize/200x200...       NaN      7 m   \n",
              "2  https://file4.batdongsan.com.vn/resize/200x200...       NaN     45 m   \n",
              "3  https://file4.batdongsan.com.vn/resize/200x200...       NaN      NaN   \n",
              "4  https://file4.batdongsan.com.vn/resize/200x200...   5 phòng      NaN   \n",
              "\n",
              "  Hướng nhà    Mã tin Ngày hết hạn Đường vào  \\\n",
              "0       NaN  33431442   27/06/2022       5 m   \n",
              "1       NaN  33886627   27/06/2022       6 m   \n",
              "2       NaN  33154416   27/06/2022      16 m   \n",
              "3      Đông  34232817   27/06/2022      13 m   \n",
              "4       NaN  34232284   27/06/2022       NaN   \n",
              "\n",
              "                            Nội thất  Tên người bán  \\\n",
              "0                                NaN    Quách Hương   \n",
              "1                                NaN    Quách Hương   \n",
              "2                                NaN    Quách Hương   \n",
              "3                                NaN      Tuấn Trần   \n",
              "4  Nhà xây thô hoàn thiện mặt ngoài.  Đào Tiến Minh   \n",
              "\n",
              "                                       Original Link  \n",
              "0  https://batdongsan.com.vn/ban-dat-xa-tan-lap-1...  \n",
              "1  https://batdongsan.com.vn/ban-dat-duong-quang-...  \n",
              "2  https://batdongsan.com.vn/ban-dat-duong-dt-716...  \n",
              "3  https://batdongsan.com.vn/ban-dat-nen-du-an-du...  \n",
              "4  https://batdongsan.com.vn/ban-nha-biet-thu-lie...  "
            ],
            "text/html": [
              "\n",
              "  <div id=\"df-bea207db-9bd0-40aa-8805-647feece7084\">\n",
              "    <div class=\"colab-df-container\">\n",
              "      <div>\n",
              "<style scoped>\n",
              "    .dataframe tbody tr th:only-of-type {\n",
              "        vertical-align: middle;\n",
              "    }\n",
              "\n",
              "    .dataframe tbody tr th {\n",
              "        vertical-align: top;\n",
              "    }\n",
              "\n",
              "    .dataframe thead th {\n",
              "        text-align: right;\n",
              "    }\n",
              "</style>\n",
              "<table border=\"1\" class=\"dataframe\">\n",
              "  <thead>\n",
              "    <tr style=\"text-align: right;\">\n",
              "      <th></th>\n",
              "      <th>Số điện thoại</th>\n",
              "      <th>Địa chỉ</th>\n",
              "      <th>Mô tả</th>\n",
              "      <th>Ngày đăng</th>\n",
              "      <th>Số tầng</th>\n",
              "      <th>Số phòng ngủ</th>\n",
              "      <th>Tiêu đề</th>\n",
              "      <th>Hướng ban công</th>\n",
              "      <th>Pháp lý</th>\n",
              "      <th>Mức giá</th>\n",
              "      <th>Diện tích</th>\n",
              "      <th>Ảnh</th>\n",
              "      <th>Số toilet</th>\n",
              "      <th>Mặt tiền</th>\n",
              "      <th>Hướng nhà</th>\n",
              "      <th>Mã tin</th>\n",
              "      <th>Ngày hết hạn</th>\n",
              "      <th>Đường vào</th>\n",
              "      <th>Nội thất</th>\n",
              "      <th>Tên người bán</th>\n",
              "      <th>Original Link</th>\n",
              "    </tr>\n",
              "  </thead>\n",
              "  <tbody>\n",
              "    <tr>\n",
              "      <th>0</th>\n",
              "      <td>0979016016</td>\n",
              "      <td>Xã Tân Lập, Hàm Thuận Nam, Bình Thuận</td>\n",
              "      <td>\\r\\n                Đất ngay đường dẫn cao tốc...</td>\n",
              "      <td>27/06/2022</td>\n",
              "      <td>NaN</td>\n",
              "      <td>NaN</td>\n",
              "      <td>Bán 10 mẫu ngay mặt tiền đường dẫn cao tốc Ph...</td>\n",
              "      <td>NaN</td>\n",
              "      <td>Sổ đỏ/ Sổ hồng</td>\n",
              "      <td>Thỏa thuận</td>\n",
              "      <td>93252 m²</td>\n",
              "      <td>https://file4.batdongsan.com.vn/resize/200x200...</td>\n",
              "      <td>NaN</td>\n",
              "      <td>500 m</td>\n",
              "      <td>NaN</td>\n",
              "      <td>33431442</td>\n",
              "      <td>27/06/2022</td>\n",
              "      <td>5 m</td>\n",
              "      <td>NaN</td>\n",
              "      <td>Quách Hương</td>\n",
              "      <td>https://batdongsan.com.vn/ban-dat-xa-tan-lap-1...</td>\n",
              "    </tr>\n",
              "    <tr>\n",
              "      <th>1</th>\n",
              "      <td>0979016016</td>\n",
              "      <td>Đường Quang Trung, Phường Tăng Nhơn Phú B, Quậ...</td>\n",
              "      <td>\\r\\n                Sở hữu đất rộng ngay UBND ...</td>\n",
              "      <td>27/06/2022</td>\n",
              "      <td>NaN</td>\n",
              "      <td>NaN</td>\n",
              "      <td>Tôi không bán đất, tôi chỉ muốn khoe tôi có 2...</td>\n",
              "      <td>NaN</td>\n",
              "      <td>Sổ đỏ/ Sổ hồng</td>\n",
              "      <td>Thỏa thuận</td>\n",
              "      <td>238 m²</td>\n",
              "      <td>https://file4.batdongsan.com.vn/resize/200x200...</td>\n",
              "      <td>NaN</td>\n",
              "      <td>7 m</td>\n",
              "      <td>NaN</td>\n",
              "      <td>33886627</td>\n",
              "      <td>27/06/2022</td>\n",
              "      <td>6 m</td>\n",
              "      <td>NaN</td>\n",
              "      <td>Quách Hương</td>\n",
              "      <td>https://batdongsan.com.vn/ban-dat-duong-quang-...</td>\n",
              "    </tr>\n",
              "    <tr>\n",
              "      <th>2</th>\n",
              "      <td>0979016016</td>\n",
              "      <td>Đường ĐT 716, Xã Hoà Thắng, Bắc Bình, Bình Thu...</td>\n",
              "      <td>\\r\\n                Siêu phẩm đất view biển nằ...</td>\n",
              "      <td>27/06/2022</td>\n",
              "      <td>NaN</td>\n",
              "      <td>NaN</td>\n",
              "      <td>Tôi không bán Đất. Tôi chỉ muốn khoe tôi có 3...</td>\n",
              "      <td>NaN</td>\n",
              "      <td>Sổ đỏ/ Sổ hồng</td>\n",
              "      <td>Thỏa thuận</td>\n",
              "      <td>4169 m²</td>\n",
              "      <td>https://file4.batdongsan.com.vn/resize/200x200...</td>\n",
              "      <td>NaN</td>\n",
              "      <td>45 m</td>\n",
              "      <td>NaN</td>\n",
              "      <td>33154416</td>\n",
              "      <td>27/06/2022</td>\n",
              "      <td>16 m</td>\n",
              "      <td>NaN</td>\n",
              "      <td>Quách Hương</td>\n",
              "      <td>https://batdongsan.com.vn/ban-dat-duong-dt-716...</td>\n",
              "    </tr>\n",
              "    <tr>\n",
              "      <th>3</th>\n",
              "      <td>0901478123</td>\n",
              "      <td>Dự án Richmond Quy Nhơn, Quy Nhơn, Bình Định</td>\n",
              "      <td>\\r\\n                - Tập đoàn Hưng Thịnh mở b...</td>\n",
              "      <td>27/06/2022</td>\n",
              "      <td>NaN</td>\n",
              "      <td>NaN</td>\n",
              "      <td>Hưng Thịnh mở bán 40 lô đất nền đô thị kiểu m...</td>\n",
              "      <td>NaN</td>\n",
              "      <td>Hợp đồng mua bán</td>\n",
              "      <td>5.3 tỷ</td>\n",
              "      <td>100 m²</td>\n",
              "      <td>https://file4.batdongsan.com.vn/resize/200x200...</td>\n",
              "      <td>NaN</td>\n",
              "      <td>NaN</td>\n",
              "      <td>Đông</td>\n",
              "      <td>34232817</td>\n",
              "      <td>27/06/2022</td>\n",
              "      <td>13 m</td>\n",
              "      <td>NaN</td>\n",
              "      <td>Tuấn Trần</td>\n",
              "      <td>https://batdongsan.com.vn/ban-dat-nen-du-an-du...</td>\n",
              "    </tr>\n",
              "    <tr>\n",
              "      <th>4</th>\n",
              "      <td>0348666658</td>\n",
              "      <td>Dự án Mê Linh - Thanh Lâm - Đại Thịnh, Mê Linh...</td>\n",
              "      <td>\\r\\n                Chính chủ hiện nay tôi có ...</td>\n",
              "      <td>27/06/2022</td>\n",
              "      <td>4 tầng</td>\n",
              "      <td>4 phòng</td>\n",
              "      <td>Quỹ 5 căn góc liền kề, biệt thự trục chính, m...</td>\n",
              "      <td>NaN</td>\n",
              "      <td>NaN</td>\n",
              "      <td>7.3 tỷ</td>\n",
              "      <td>111 m²</td>\n",
              "      <td>https://file4.batdongsan.com.vn/resize/200x200...</td>\n",
              "      <td>5 phòng</td>\n",
              "      <td>NaN</td>\n",
              "      <td>NaN</td>\n",
              "      <td>34232284</td>\n",
              "      <td>27/06/2022</td>\n",
              "      <td>NaN</td>\n",
              "      <td>Nhà xây thô hoàn thiện mặt ngoài.</td>\n",
              "      <td>Đào Tiến Minh</td>\n",
              "      <td>https://batdongsan.com.vn/ban-nha-biet-thu-lie...</td>\n",
              "    </tr>\n",
              "  </tbody>\n",
              "</table>\n",
              "</div>\n",
              "      <button class=\"colab-df-convert\" onclick=\"convertToInteractive('df-bea207db-9bd0-40aa-8805-647feece7084')\"\n",
              "              title=\"Convert this dataframe to an interactive table.\"\n",
              "              style=\"display:none;\">\n",
              "        \n",
              "  <svg xmlns=\"http://www.w3.org/2000/svg\" height=\"24px\"viewBox=\"0 0 24 24\"\n",
              "       width=\"24px\">\n",
              "    <path d=\"M0 0h24v24H0V0z\" fill=\"none\"/>\n",
              "    <path d=\"M18.56 5.44l.94 2.06.94-2.06 2.06-.94-2.06-.94-.94-2.06-.94 2.06-2.06.94zm-11 1L8.5 8.5l.94-2.06 2.06-.94-2.06-.94L8.5 2.5l-.94 2.06-2.06.94zm10 10l.94 2.06.94-2.06 2.06-.94-2.06-.94-.94-2.06-.94 2.06-2.06.94z\"/><path d=\"M17.41 7.96l-1.37-1.37c-.4-.4-.92-.59-1.43-.59-.52 0-1.04.2-1.43.59L10.3 9.45l-7.72 7.72c-.78.78-.78 2.05 0 2.83L4 21.41c.39.39.9.59 1.41.59.51 0 1.02-.2 1.41-.59l7.78-7.78 2.81-2.81c.8-.78.8-2.07 0-2.86zM5.41 20L4 18.59l7.72-7.72 1.47 1.35L5.41 20z\"/>\n",
              "  </svg>\n",
              "      </button>\n",
              "      \n",
              "  <style>\n",
              "    .colab-df-container {\n",
              "      display:flex;\n",
              "      flex-wrap:wrap;\n",
              "      gap: 12px;\n",
              "    }\n",
              "\n",
              "    .colab-df-convert {\n",
              "      background-color: #E8F0FE;\n",
              "      border: none;\n",
              "      border-radius: 50%;\n",
              "      cursor: pointer;\n",
              "      display: none;\n",
              "      fill: #1967D2;\n",
              "      height: 32px;\n",
              "      padding: 0 0 0 0;\n",
              "      width: 32px;\n",
              "    }\n",
              "\n",
              "    .colab-df-convert:hover {\n",
              "      background-color: #E2EBFA;\n",
              "      box-shadow: 0px 1px 2px rgba(60, 64, 67, 0.3), 0px 1px 3px 1px rgba(60, 64, 67, 0.15);\n",
              "      fill: #174EA6;\n",
              "    }\n",
              "\n",
              "    [theme=dark] .colab-df-convert {\n",
              "      background-color: #3B4455;\n",
              "      fill: #D2E3FC;\n",
              "    }\n",
              "\n",
              "    [theme=dark] .colab-df-convert:hover {\n",
              "      background-color: #434B5C;\n",
              "      box-shadow: 0px 1px 3px 1px rgba(0, 0, 0, 0.15);\n",
              "      filter: drop-shadow(0px 1px 2px rgba(0, 0, 0, 0.3));\n",
              "      fill: #FFFFFF;\n",
              "    }\n",
              "  </style>\n",
              "\n",
              "      <script>\n",
              "        const buttonEl =\n",
              "          document.querySelector('#df-bea207db-9bd0-40aa-8805-647feece7084 button.colab-df-convert');\n",
              "        buttonEl.style.display =\n",
              "          google.colab.kernel.accessAllowed ? 'block' : 'none';\n",
              "\n",
              "        async function convertToInteractive(key) {\n",
              "          const element = document.querySelector('#df-bea207db-9bd0-40aa-8805-647feece7084');\n",
              "          const dataTable =\n",
              "            await google.colab.kernel.invokeFunction('convertToInteractive',\n",
              "                                                     [key], {});\n",
              "          if (!dataTable) return;\n",
              "\n",
              "          const docLinkHtml = 'Like what you see? Visit the ' +\n",
              "            '<a target=\"_blank\" href=https://colab.research.google.com/notebooks/data_table.ipynb>data table notebook</a>'\n",
              "            + ' to learn more about interactive tables.';\n",
              "          element.innerHTML = '';\n",
              "          dataTable['output_type'] = 'display_data';\n",
              "          await google.colab.output.renderOutput(dataTable, element);\n",
              "          const docLink = document.createElement('div');\n",
              "          docLink.innerHTML = docLinkHtml;\n",
              "          element.appendChild(docLink);\n",
              "        }\n",
              "      </script>\n",
              "    </div>\n",
              "  </div>\n",
              "  "
            ]
          },
          "metadata": {},
          "execution_count": 3
        }
      ]
    },
    {
      "cell_type": "code",
      "source": [
        "#Chọn các cột có dữ liệu dạng String\n",
        "data = pd.DataFrame(data[['Địa chỉ', 'Mô tả', 'Tiêu đề', 'Pháp lý', 'Hướng nhà', 'Nội thất', 'Tên người bán']])"
      ],
      "metadata": {
        "id": "8oPPau9g8kxh"
      },
      "execution_count": null,
      "outputs": []
    },
    {
      "cell_type": "code",
      "source": [
        "#Mapping các giá trị tên trường thành số\n",
        "wordsDict = {}\n",
        "for i in range(len(data.columns)):\n",
        "  print(data.columns[i] + ': ' + str(i))\n",
        "  wordsDict[i] = data.columns[i]"
      ],
      "metadata": {
        "colab": {
          "base_uri": "https://localhost:8080/"
        },
        "id": "y2oqqJ7--eiu",
        "outputId": "b7a68bc2-785d-42e9-a228-a451e57fc7b2"
      },
      "execution_count": null,
      "outputs": [
        {
          "output_type": "stream",
          "name": "stdout",
          "text": [
            "Địa chỉ: 0\n",
            "Mô tả: 1\n",
            "Tiêu đề: 2\n",
            "Pháp lý: 3\n",
            "Hướng nhà: 4\n",
            "Nội thất: 5\n",
            "Tên người bán: 6\n"
          ]
        }
      ]
    },
    {
      "cell_type": "code",
      "source": [
        "X = []\n",
        "y = []\n",
        "for i in range(len(data.columns)):\n",
        "  temp_Arr = data[data.columns[i]].dropna().tolist()\n",
        "  for j in temp_Arr:\n",
        "    X.append(j)\n",
        "    y.append(i)\n",
        "print(len(X))\n",
        "print(len(y))"
      ],
      "metadata": {
        "colab": {
          "base_uri": "https://localhost:8080/"
        },
        "id": "hErj2qMqMFlV",
        "outputId": "1fa5d164-94cd-4cb5-8c61-5ba709ea5b86"
      },
      "execution_count": null,
      "outputs": [
        {
          "output_type": "stream",
          "name": "stdout",
          "text": [
            "12575\n",
            "12575\n"
          ]
        }
      ]
    },
    {
      "cell_type": "code",
      "source": [
        "#Chuyển các xâu về dạng TF-IDF\n",
        "vectorizer = TfidfVectorizer()\n",
        "X = vectorizer.fit_transform(X)\n",
        "print(X.shape)"
      ],
      "metadata": {
        "colab": {
          "base_uri": "https://localhost:8080/"
        },
        "id": "lN0B004fNbjh",
        "outputId": "a349c784-1612-4963-b313-5af3cc907433"
      },
      "execution_count": null,
      "outputs": [
        {
          "output_type": "stream",
          "name": "stdout",
          "text": [
            "(12575, 11372)\n"
          ]
        }
      ]
    },
    {
      "cell_type": "code",
      "source": [
        "#Chia dữ liệu thành tập train, test\n",
        "X_train, X_test, Y_train, Y_test = train_test_split(X, y, test_size=0.2, random_state=0)\n",
        "print(X_train.shape)\n",
        "print(len(Y_train))"
      ],
      "metadata": {
        "colab": {
          "base_uri": "https://localhost:8080/"
        },
        "id": "URZ3TnwpRjPh",
        "outputId": "b13c7907-0a58-457e-ed46-8b3ce40bcf15"
      },
      "execution_count": null,
      "outputs": [
        {
          "output_type": "stream",
          "name": "stdout",
          "text": [
            "(10060, 11372)\n",
            "10060\n"
          ]
        }
      ]
    },
    {
      "cell_type": "code",
      "source": [
        "#Huấn luyện mô hình\n",
        "NB = MultinomialNB()\n",
        "NB.fit(X_train, Y_train)"
      ],
      "metadata": {
        "colab": {
          "base_uri": "https://localhost:8080/"
        },
        "id": "Rz3IowW2SPTw",
        "outputId": "5390ca33-4a07-4a43-e9c8-8c79c1aa72bd"
      },
      "execution_count": null,
      "outputs": [
        {
          "output_type": "execute_result",
          "data": {
            "text/plain": [
              "MultinomialNB()"
            ]
          },
          "metadata": {},
          "execution_count": 9
        }
      ]
    },
    {
      "cell_type": "code",
      "source": [
        "print(\"Acc trên tập train:\", NB.score(X_train, Y_train))\n",
        "print(\"Acc trên tập test:\", NB.score(X_test, Y_test))\n",
        "print(classification_report(Y_test, NB.predict(X_test)))"
      ],
      "metadata": {
        "colab": {
          "base_uri": "https://localhost:8080/"
        },
        "id": "0P7MH0XkSZFt",
        "outputId": "c82ec3d0-09e6-4442-896e-d352492fde64"
      },
      "execution_count": null,
      "outputs": [
        {
          "output_type": "stream",
          "name": "stdout",
          "text": [
            "Acc trên tập train: 0.8917495029821073\n",
            "Acc trên tập test: 0.852882703777336\n",
            "              precision    recall  f1-score   support\n",
            "\n",
            "           0       0.88      1.00      0.94       461\n",
            "           1       0.63      0.98      0.77       504\n",
            "           2       0.93      0.55      0.69       461\n",
            "           3       1.00      0.95      0.98       305\n",
            "           4       0.99      1.00      0.99       155\n",
            "           5       1.00      0.68      0.81       160\n",
            "           6       1.00      0.82      0.90       469\n",
            "\n",
            "    accuracy                           0.85      2515\n",
            "   macro avg       0.92      0.85      0.87      2515\n",
            "weighted avg       0.89      0.85      0.85      2515\n",
            "\n"
          ]
        }
      ]
    },
    {
      "cell_type": "markdown",
      "source": [
        "#2. Schema Matching\n"
      ],
      "metadata": {
        "id": "BppMua3bUh7J"
      }
    },
    {
      "cell_type": "code",
      "source": [
        "def isPhoneFormat(s):\n",
        "  validate_phone_number_pattern = \"^[0-9\\-\\+]{9,15}$\"\n",
        "  return bool(re.match(validate_phone_number_pattern, s))"
      ],
      "metadata": {
        "id": "4ZrvyQjLUoxH"
      },
      "execution_count": null,
      "outputs": []
    },
    {
      "cell_type": "code",
      "source": [
        "def isTimeFormat(s):\n",
        "  time_pattern = \"^[0-9]{1,2}\\\\/[0-9]{1,2}\\\\/[0-9]{4}$\"\n",
        "  return bool(re.match(time_pattern, s))"
      ],
      "metadata": {
        "id": "zz8vAg1FdYz7"
      },
      "execution_count": null,
      "outputs": []
    },
    {
      "cell_type": "code",
      "source": [
        "def URLFormat(s):\n",
        "  url_pattern = \"^https?:\\\\/\\\\/(?:www\\\\.)?[-a-zA-Z0-9@:%._\\\\+~#=]{1,256}\\\\.[a-zA-Z0-9()]{1,6}\\\\b(?:[-a-zA-Z0-9()@:%_\\\\+.~#?&\\\\/=]*)$\"\n",
        "  return bool(re.match(url_pattern, s))"
      ],
      "metadata": {
        "id": "U5Sr6USwdDXz"
      },
      "execution_count": null,
      "outputs": []
    },
    {
      "cell_type": "code",
      "source": [
        "def isImageFormat(s):\n",
        "  if ('.jpg' in s) or ('.png' in s):\n",
        "    return True\n",
        "  return False"
      ],
      "metadata": {
        "id": "UUtAvIXGdbMx"
      },
      "execution_count": null,
      "outputs": []
    },
    {
      "cell_type": "code",
      "source": [
        "def isArea(s):\n",
        "  if (' m²' in s):\n",
        "    return True\n",
        "  return False"
      ],
      "metadata": {
        "id": "GLNHl_HKcIqp"
      },
      "execution_count": null,
      "outputs": []
    },
    {
      "cell_type": "code",
      "source": [
        "def isMeter(s):\n",
        "  if (' m' in s):\n",
        "    return True\n",
        "  return False"
      ],
      "metadata": {
        "id": "lbfgRrM4cdhg"
      },
      "execution_count": null,
      "outputs": []
    },
    {
      "cell_type": "code",
      "source": [
        "chotot = pd.read_csv('/content/drive/MyDrive/My THDL/Cho-tot2.csv')"
      ],
      "metadata": {
        "id": "mBbzbHOEYDc5"
      },
      "execution_count": null,
      "outputs": []
    },
    {
      "cell_type": "code",
      "source": [
        "chotot.head()"
      ],
      "metadata": {
        "colab": {
          "base_uri": "https://localhost:8080/",
          "height": 912
        },
        "id": "sq5R3VgmbODK",
        "outputId": "904c8a19-9e94-4375-ebd2-6db1c21e72ff"
      },
      "execution_count": null,
      "outputs": [
        {
          "output_type": "execute_result",
          "data": {
            "text/plain": [
              "  Unnamed: 0 Số phòng ngủ:  Chiều ngang:  Mã căn / Mã căn hộ:   \\\n",
              "0        NaN        2 phòng           4 m                  NaN   \n",
              "1        NaN        3 phòng           NaN                  NaN   \n",
              "2        NaN        2 phòng           4 m                  NaN   \n",
              "3        NaN        2 phòng           NaN                  NaN   \n",
              "4        NaN        2 phòng           5 m                  NaN   \n",
              "\n",
              "  Số phòng vệ sinh:                                            Chi tiết  \\\n",
              "0            1 phòng  Nhà trệt lầu hoàn công, nở hậu, Hẻm 98 - Phạm ...   \n",
              "1                NaN  Bán nhà Vân Canh 5 TẦNG MỚI Ở NGAY \\r\\n+Oto tr...   \n",
              "2            2 phòng  Chủ cần sang nhượng nhà để di cư sang nước ngo...   \n",
              "3            2 phòng  - Vị trí nhà đẹp, lô góc 2 mặt thoáng, căn nhà...   \n",
              "4            2 phòng  Nhà mặt tiền Chiết Ga ( 567 Lê văn khương), p....   \n",
              "\n",
              "  Dự Án:                                          Link nguồn  \\\n",
              "0     NaN  https://nha.chotot.com/mua-ban-nha-dat-quan-ni...   \n",
              "1     NaN  https://nha.chotot.com/mua-ban-nha-dat-huyen-h...   \n",
              "2     NaN  https://nha.chotot.com/mua-ban-nha-dat-quan-bi...   \n",
              "3     NaN  https://nha.chotot.com/mua-ban-nha-dat-quan-do...   \n",
              "4     NaN  https://nha.chotot.com/mua-ban-nha-dat-quan-12...   \n",
              "\n",
              "  Loại hình nhà ở:                                             Ảnh nhà  \\\n",
              "0           Nhà ngõ  https://cdn.chotot.com/K1dRMhyumnlHZmFwkweuO6F...   \n",
              "1           Nhà ngõ  https://cdn.chotot.com/qgN7JPtEr2_wkCN-NIpfnmE...   \n",
              "2           Nhà ngõ  https://cdn.chotot.com/16mWE6EtFcFUjq3SbgeMd1y...   \n",
              "3           Nhà ngõ  https://cdn.chotot.com/rJNmUj6bFC4jD4f2vs3NET-...   \n",
              "4       Nhà mặt phố  https://cdn.chotot.com/kUbqhbsIInNyHMfb59Bt5rR...   \n",
              "\n",
              "  Tình trạng nội thất:  Đặc điểm nhà/đất:  Giấy tờ pháp lý:   \\\n",
              "0     Hoàn thiện cơ bản                NaN          Đã có sổ   \n",
              "1                   NaN                NaN               NaN   \n",
              "2                   NaN                NaN          Đã có sổ   \n",
              "3       Nội thất đầy đủ                NaN          Đã có sổ   \n",
              "4     Hoàn thiện cơ bản                NaN          Đã có sổ   \n",
              "\n",
              "                     Người bán Diện tích đất:     Liên lạc        Giá/m2:   \\\n",
              "0                      Mỹ Kim            38 m²  0943700368  47,11 triệu/m²   \n",
              "1                       Thiện            32 m²  0376369183     75 triệu/m²   \n",
              "2                    Mỹ Tiên             46 m²  0938455817  26,96 triệu/m²   \n",
              "3              HOÀNG XUÂN HOÀ            25 m²  0879571234    104 triệu/m²   \n",
              "4  Bất Động Sản TOÀN CẦU LAND           161 m²  0985239435  35,09 triệu/m²   \n",
              "\n",
              "  Chiều dài:  Giá đề xuất Diện tích sử dụng:   \\\n",
              "0        10 m     1,79 tỷ                 NaN   \n",
              "1         NaN      2,4 tỷ                 NaN   \n",
              "2      11.5 m     1,24 tỷ               46 m²   \n",
              "3         NaN      2,6 tỷ               25 m²   \n",
              "4        32 m     5,65 tỷ              161 m²   \n",
              "\n",
              "                                             Địa chỉ  \\\n",
              "0  Đường Phạm Ngũ Lão, Phường An Hòa, Quận Ninh K...   \n",
              "1  Đường An Trai, Xã Vân Canh, Huyện Hoài Đức, Hà...   \n",
              "2  Đường Lê Văn Quới, Phường Bình Trị Đông A, Quậ...   \n",
              "3  Ngõ 22 Phố Tôn Thất Tùng, Phường Khương Thượng...   \n",
              "4  Hẻm 567 Đường Lê Văn Khương, Phường Hiệp Thành...   \n",
              "\n",
              "                                        Tên bài đăng  \\\n",
              "0                   Nhà trệt lầu hẻm 98 Phạm Ngũ Lão   \n",
              "1            BÁN NHÀ VÂN CANH 5 TẦNG Ở NGAY CHỈ 2TY4   \n",
              "2   NHÀ HẺM 1 TRỆT 1 LẦU, LÊ VĂN QUỚI_B.TÂN/46m2,...   \n",
              "3   SIÊU PHẨM ĐỐNG ĐA•NHỎ TIỀN•LÔ GÓC•25M2 CHỈ 2....   \n",
              "4   Nhà 5.15MX32M Mặt Tiền Chiết Ga, P.Hiệp Thành...   \n",
              "\n",
              "  Tên phân khu/Lô/Block/Tháp:  Tổng số tầng:  Hướng cửa chính:   \n",
              "0                          NaN              1           Tây Bắc  \n",
              "1                          NaN            NaN               NaN  \n",
              "2                          NaN              1               NaN  \n",
              "3                          NaN              3               NaN  \n",
              "4                          NaN              1               Nam  "
            ],
            "text/html": [
              "\n",
              "  <div id=\"df-85c597eb-842b-48ae-b4d6-19c1b1170bcd\">\n",
              "    <div class=\"colab-df-container\">\n",
              "      <div>\n",
              "<style scoped>\n",
              "    .dataframe tbody tr th:only-of-type {\n",
              "        vertical-align: middle;\n",
              "    }\n",
              "\n",
              "    .dataframe tbody tr th {\n",
              "        vertical-align: top;\n",
              "    }\n",
              "\n",
              "    .dataframe thead th {\n",
              "        text-align: right;\n",
              "    }\n",
              "</style>\n",
              "<table border=\"1\" class=\"dataframe\">\n",
              "  <thead>\n",
              "    <tr style=\"text-align: right;\">\n",
              "      <th></th>\n",
              "      <th>Unnamed: 0</th>\n",
              "      <th>Số phòng ngủ:</th>\n",
              "      <th>Chiều ngang:</th>\n",
              "      <th>Mã căn / Mã căn hộ:</th>\n",
              "      <th>Số phòng vệ sinh:</th>\n",
              "      <th>Chi tiết</th>\n",
              "      <th>Dự Án:</th>\n",
              "      <th>Link nguồn</th>\n",
              "      <th>Loại hình nhà ở:</th>\n",
              "      <th>Ảnh nhà</th>\n",
              "      <th>Tình trạng nội thất:</th>\n",
              "      <th>Đặc điểm nhà/đất:</th>\n",
              "      <th>Giấy tờ pháp lý:</th>\n",
              "      <th>Người bán</th>\n",
              "      <th>Diện tích đất:</th>\n",
              "      <th>Liên lạc</th>\n",
              "      <th>Giá/m2:</th>\n",
              "      <th>Chiều dài:</th>\n",
              "      <th>Giá đề xuất</th>\n",
              "      <th>Diện tích sử dụng:</th>\n",
              "      <th>Địa chỉ</th>\n",
              "      <th>Tên bài đăng</th>\n",
              "      <th>Tên phân khu/Lô/Block/Tháp:</th>\n",
              "      <th>Tổng số tầng:</th>\n",
              "      <th>Hướng cửa chính:</th>\n",
              "    </tr>\n",
              "  </thead>\n",
              "  <tbody>\n",
              "    <tr>\n",
              "      <th>0</th>\n",
              "      <td>NaN</td>\n",
              "      <td>2 phòng</td>\n",
              "      <td>4 m</td>\n",
              "      <td>NaN</td>\n",
              "      <td>1 phòng</td>\n",
              "      <td>Nhà trệt lầu hoàn công, nở hậu, Hẻm 98 - Phạm ...</td>\n",
              "      <td>NaN</td>\n",
              "      <td>https://nha.chotot.com/mua-ban-nha-dat-quan-ni...</td>\n",
              "      <td>Nhà ngõ</td>\n",
              "      <td>https://cdn.chotot.com/K1dRMhyumnlHZmFwkweuO6F...</td>\n",
              "      <td>Hoàn thiện cơ bản</td>\n",
              "      <td>NaN</td>\n",
              "      <td>Đã có sổ</td>\n",
              "      <td>Mỹ Kim</td>\n",
              "      <td>38 m²</td>\n",
              "      <td>0943700368</td>\n",
              "      <td>47,11 triệu/m²</td>\n",
              "      <td>10 m</td>\n",
              "      <td>1,79 tỷ</td>\n",
              "      <td>NaN</td>\n",
              "      <td>Đường Phạm Ngũ Lão, Phường An Hòa, Quận Ninh K...</td>\n",
              "      <td>Nhà trệt lầu hẻm 98 Phạm Ngũ Lão</td>\n",
              "      <td>NaN</td>\n",
              "      <td>1</td>\n",
              "      <td>Tây Bắc</td>\n",
              "    </tr>\n",
              "    <tr>\n",
              "      <th>1</th>\n",
              "      <td>NaN</td>\n",
              "      <td>3 phòng</td>\n",
              "      <td>NaN</td>\n",
              "      <td>NaN</td>\n",
              "      <td>NaN</td>\n",
              "      <td>Bán nhà Vân Canh 5 TẦNG MỚI Ở NGAY \\r\\n+Oto tr...</td>\n",
              "      <td>NaN</td>\n",
              "      <td>https://nha.chotot.com/mua-ban-nha-dat-huyen-h...</td>\n",
              "      <td>Nhà ngõ</td>\n",
              "      <td>https://cdn.chotot.com/qgN7JPtEr2_wkCN-NIpfnmE...</td>\n",
              "      <td>NaN</td>\n",
              "      <td>NaN</td>\n",
              "      <td>NaN</td>\n",
              "      <td>Thiện</td>\n",
              "      <td>32 m²</td>\n",
              "      <td>0376369183</td>\n",
              "      <td>75 triệu/m²</td>\n",
              "      <td>NaN</td>\n",
              "      <td>2,4 tỷ</td>\n",
              "      <td>NaN</td>\n",
              "      <td>Đường An Trai, Xã Vân Canh, Huyện Hoài Đức, Hà...</td>\n",
              "      <td>BÁN NHÀ VÂN CANH 5 TẦNG Ở NGAY CHỈ 2TY4</td>\n",
              "      <td>NaN</td>\n",
              "      <td>NaN</td>\n",
              "      <td>NaN</td>\n",
              "    </tr>\n",
              "    <tr>\n",
              "      <th>2</th>\n",
              "      <td>NaN</td>\n",
              "      <td>2 phòng</td>\n",
              "      <td>4 m</td>\n",
              "      <td>NaN</td>\n",
              "      <td>2 phòng</td>\n",
              "      <td>Chủ cần sang nhượng nhà để di cư sang nước ngo...</td>\n",
              "      <td>NaN</td>\n",
              "      <td>https://nha.chotot.com/mua-ban-nha-dat-quan-bi...</td>\n",
              "      <td>Nhà ngõ</td>\n",
              "      <td>https://cdn.chotot.com/16mWE6EtFcFUjq3SbgeMd1y...</td>\n",
              "      <td>NaN</td>\n",
              "      <td>NaN</td>\n",
              "      <td>Đã có sổ</td>\n",
              "      <td>Mỹ Tiên</td>\n",
              "      <td>46 m²</td>\n",
              "      <td>0938455817</td>\n",
              "      <td>26,96 triệu/m²</td>\n",
              "      <td>11.5 m</td>\n",
              "      <td>1,24 tỷ</td>\n",
              "      <td>46 m²</td>\n",
              "      <td>Đường Lê Văn Quới, Phường Bình Trị Đông A, Quậ...</td>\n",
              "      <td>NHÀ HẺM 1 TRỆT 1 LẦU, LÊ VĂN QUỚI_B.TÂN/46m2,...</td>\n",
              "      <td>NaN</td>\n",
              "      <td>1</td>\n",
              "      <td>NaN</td>\n",
              "    </tr>\n",
              "    <tr>\n",
              "      <th>3</th>\n",
              "      <td>NaN</td>\n",
              "      <td>2 phòng</td>\n",
              "      <td>NaN</td>\n",
              "      <td>NaN</td>\n",
              "      <td>2 phòng</td>\n",
              "      <td>- Vị trí nhà đẹp, lô góc 2 mặt thoáng, căn nhà...</td>\n",
              "      <td>NaN</td>\n",
              "      <td>https://nha.chotot.com/mua-ban-nha-dat-quan-do...</td>\n",
              "      <td>Nhà ngõ</td>\n",
              "      <td>https://cdn.chotot.com/rJNmUj6bFC4jD4f2vs3NET-...</td>\n",
              "      <td>Nội thất đầy đủ</td>\n",
              "      <td>NaN</td>\n",
              "      <td>Đã có sổ</td>\n",
              "      <td>HOÀNG XUÂN HOÀ</td>\n",
              "      <td>25 m²</td>\n",
              "      <td>0879571234</td>\n",
              "      <td>104 triệu/m²</td>\n",
              "      <td>NaN</td>\n",
              "      <td>2,6 tỷ</td>\n",
              "      <td>25 m²</td>\n",
              "      <td>Ngõ 22 Phố Tôn Thất Tùng, Phường Khương Thượng...</td>\n",
              "      <td>SIÊU PHẨM ĐỐNG ĐA•NHỎ TIỀN•LÔ GÓC•25M2 CHỈ 2....</td>\n",
              "      <td>NaN</td>\n",
              "      <td>3</td>\n",
              "      <td>NaN</td>\n",
              "    </tr>\n",
              "    <tr>\n",
              "      <th>4</th>\n",
              "      <td>NaN</td>\n",
              "      <td>2 phòng</td>\n",
              "      <td>5 m</td>\n",
              "      <td>NaN</td>\n",
              "      <td>2 phòng</td>\n",
              "      <td>Nhà mặt tiền Chiết Ga ( 567 Lê văn khương), p....</td>\n",
              "      <td>NaN</td>\n",
              "      <td>https://nha.chotot.com/mua-ban-nha-dat-quan-12...</td>\n",
              "      <td>Nhà mặt phố</td>\n",
              "      <td>https://cdn.chotot.com/kUbqhbsIInNyHMfb59Bt5rR...</td>\n",
              "      <td>Hoàn thiện cơ bản</td>\n",
              "      <td>NaN</td>\n",
              "      <td>Đã có sổ</td>\n",
              "      <td>Bất Động Sản TOÀN CẦU LAND</td>\n",
              "      <td>161 m²</td>\n",
              "      <td>0985239435</td>\n",
              "      <td>35,09 triệu/m²</td>\n",
              "      <td>32 m</td>\n",
              "      <td>5,65 tỷ</td>\n",
              "      <td>161 m²</td>\n",
              "      <td>Hẻm 567 Đường Lê Văn Khương, Phường Hiệp Thành...</td>\n",
              "      <td>Nhà 5.15MX32M Mặt Tiền Chiết Ga, P.Hiệp Thành...</td>\n",
              "      <td>NaN</td>\n",
              "      <td>1</td>\n",
              "      <td>Nam</td>\n",
              "    </tr>\n",
              "  </tbody>\n",
              "</table>\n",
              "</div>\n",
              "      <button class=\"colab-df-convert\" onclick=\"convertToInteractive('df-85c597eb-842b-48ae-b4d6-19c1b1170bcd')\"\n",
              "              title=\"Convert this dataframe to an interactive table.\"\n",
              "              style=\"display:none;\">\n",
              "        \n",
              "  <svg xmlns=\"http://www.w3.org/2000/svg\" height=\"24px\"viewBox=\"0 0 24 24\"\n",
              "       width=\"24px\">\n",
              "    <path d=\"M0 0h24v24H0V0z\" fill=\"none\"/>\n",
              "    <path d=\"M18.56 5.44l.94 2.06.94-2.06 2.06-.94-2.06-.94-.94-2.06-.94 2.06-2.06.94zm-11 1L8.5 8.5l.94-2.06 2.06-.94-2.06-.94L8.5 2.5l-.94 2.06-2.06.94zm10 10l.94 2.06.94-2.06 2.06-.94-2.06-.94-.94-2.06-.94 2.06-2.06.94z\"/><path d=\"M17.41 7.96l-1.37-1.37c-.4-.4-.92-.59-1.43-.59-.52 0-1.04.2-1.43.59L10.3 9.45l-7.72 7.72c-.78.78-.78 2.05 0 2.83L4 21.41c.39.39.9.59 1.41.59.51 0 1.02-.2 1.41-.59l7.78-7.78 2.81-2.81c.8-.78.8-2.07 0-2.86zM5.41 20L4 18.59l7.72-7.72 1.47 1.35L5.41 20z\"/>\n",
              "  </svg>\n",
              "      </button>\n",
              "      \n",
              "  <style>\n",
              "    .colab-df-container {\n",
              "      display:flex;\n",
              "      flex-wrap:wrap;\n",
              "      gap: 12px;\n",
              "    }\n",
              "\n",
              "    .colab-df-convert {\n",
              "      background-color: #E8F0FE;\n",
              "      border: none;\n",
              "      border-radius: 50%;\n",
              "      cursor: pointer;\n",
              "      display: none;\n",
              "      fill: #1967D2;\n",
              "      height: 32px;\n",
              "      padding: 0 0 0 0;\n",
              "      width: 32px;\n",
              "    }\n",
              "\n",
              "    .colab-df-convert:hover {\n",
              "      background-color: #E2EBFA;\n",
              "      box-shadow: 0px 1px 2px rgba(60, 64, 67, 0.3), 0px 1px 3px 1px rgba(60, 64, 67, 0.15);\n",
              "      fill: #174EA6;\n",
              "    }\n",
              "\n",
              "    [theme=dark] .colab-df-convert {\n",
              "      background-color: #3B4455;\n",
              "      fill: #D2E3FC;\n",
              "    }\n",
              "\n",
              "    [theme=dark] .colab-df-convert:hover {\n",
              "      background-color: #434B5C;\n",
              "      box-shadow: 0px 1px 3px 1px rgba(0, 0, 0, 0.15);\n",
              "      filter: drop-shadow(0px 1px 2px rgba(0, 0, 0, 0.3));\n",
              "      fill: #FFFFFF;\n",
              "    }\n",
              "  </style>\n",
              "\n",
              "      <script>\n",
              "        const buttonEl =\n",
              "          document.querySelector('#df-85c597eb-842b-48ae-b4d6-19c1b1170bcd button.colab-df-convert');\n",
              "        buttonEl.style.display =\n",
              "          google.colab.kernel.accessAllowed ? 'block' : 'none';\n",
              "\n",
              "        async function convertToInteractive(key) {\n",
              "          const element = document.querySelector('#df-85c597eb-842b-48ae-b4d6-19c1b1170bcd');\n",
              "          const dataTable =\n",
              "            await google.colab.kernel.invokeFunction('convertToInteractive',\n",
              "                                                     [key], {});\n",
              "          if (!dataTable) return;\n",
              "\n",
              "          const docLinkHtml = 'Like what you see? Visit the ' +\n",
              "            '<a target=\"_blank\" href=https://colab.research.google.com/notebooks/data_table.ipynb>data table notebook</a>'\n",
              "            + ' to learn more about interactive tables.';\n",
              "          element.innerHTML = '';\n",
              "          dataTable['output_type'] = 'display_data';\n",
              "          await google.colab.output.renderOutput(dataTable, element);\n",
              "          const docLink = document.createElement('div');\n",
              "          docLink.innerHTML = docLinkHtml;\n",
              "          element.appendChild(docLink);\n",
              "        }\n",
              "      </script>\n",
              "    </div>\n",
              "  </div>\n",
              "  "
            ]
          },
          "metadata": {},
          "execution_count": 26
        }
      ]
    },
    {
      "cell_type": "code",
      "source": [
        "print(chotot.columns)"
      ],
      "metadata": {
        "colab": {
          "base_uri": "https://localhost:8080/"
        },
        "id": "pvedKsBQhT_9",
        "outputId": "f6ebb2d2-9410-49ff-f352-909a4212e3d4"
      },
      "execution_count": null,
      "outputs": [
        {
          "output_type": "stream",
          "name": "stdout",
          "text": [
            "Index(['Unnamed: 0', 'Số phòng ngủ: ', 'Chiều ngang: ', 'Mã căn / Mã căn hộ: ',\n",
            "       'Số phòng vệ sinh: ', 'Chi tiết', 'Dự Án: ', 'Link nguồn',\n",
            "       'Loại hình nhà ở: ', 'Ảnh nhà', 'Tình trạng nội thất: ',\n",
            "       'Đặc điểm nhà/đất: ', 'Giấy tờ pháp lý: ', 'Người bán',\n",
            "       'Diện tích đất: ', 'Liên lạc', 'Giá/m2: ', 'Chiều dài: ', 'Giá đề xuất',\n",
            "       'Diện tích sử dụng: ', 'Địa chỉ', 'Tên bài đăng',\n",
            "       'Tên phân khu/Lô/Block/Tháp: ', 'Tổng số tầng: ', 'Hướng cửa chính: '],\n",
            "      dtype='object')\n"
          ]
        }
      ]
    },
    {
      "cell_type": "code",
      "source": [
        "batdongsan = pd.read_csv('/content/drive/MyDrive/My THDL/Bat-dong-san2.csv')"
      ],
      "metadata": {
        "id": "VEVdobvyUoyW"
      },
      "execution_count": null,
      "outputs": []
    },
    {
      "cell_type": "code",
      "source": [
        "def normalize_price(x):   \n",
        "    if 'tỷ' in x or 'triệu' in x:\n",
        "      if (x[-2:]) == 'tỷ':\n",
        "        x = str(float(x[:-3].replace(',', '.'))*1000)\n",
        "      x = x.replace('tỷ','')\n",
        "      x = x.replace('triệu','')  \n",
        "      x = x.replace(' ', '')\n",
        "      try:\n",
        "        x = float(x)\n",
        "        if x > 0:\n",
        "          return x\n",
        "        else: \n",
        "          return str('Thỏa thuận')\n",
        "      except:\n",
        "        return str('Thỏa thuận')\n",
        "    else:\n",
        "      return str('Thỏa thuận')\n",
        "\n",
        "def normalize_square(x):   \n",
        "  x = x.split(' ')\n",
        "  if x[0] != 'nan' and len(x[0]) > 0:\n",
        "\n",
        "    x[0] = x[0].replace(',', '.')\n",
        "    return float(x[0])\n",
        "\n",
        "def normalize_room(x):  \n",
        "  if str(x) != 'Chưa có thông tin': \n",
        "    x = x.split(' ')\n",
        "    if len(x) > 1:\n",
        "      if x[0] != 'nan':\n",
        "        return str(int(x[-2]))\n",
        "    else:\n",
        "      try:\n",
        "        x = int(float(x[0]))\n",
        "        return str(x)\n",
        "      except:\n",
        "        return str('Chưa có thông tin')\n",
        "  return str('Chưa có thông tin')"
      ],
      "metadata": {
        "id": "SLFd71QrdFr8"
      },
      "execution_count": null,
      "outputs": []
    },
    {
      "cell_type": "code",
      "source": [
        "chotot['Giá đề xuất'] = chotot['Giá đề xuất'].apply(lambda x: normalize_price(str(x)))\n",
        "chotot['Diện tích đất: '] = chotot['Diện tích đất: '].apply(lambda x: normalize_square(str(x)))\n",
        "chotot['Số phòng ngủ: '] = chotot['Số phòng ngủ: '].apply(lambda x: normalize_room(str(x)))      \n",
        "chotot['Số phòng vệ sinh: '] = chotot['Số phòng vệ sinh: '].apply(lambda x: normalize_room(str(x)))"
      ],
      "metadata": {
        "id": "-_3PcJpgeiwx"
      },
      "execution_count": null,
      "outputs": []
    },
    {
      "cell_type": "code",
      "source": [
        "batdongsan['Số phỏng ngủ'] = batdongsan['Số phỏng ngủ'].apply(lambda x: normalize_room(str(x)))\n",
        "batdongsan['Số toilet'] = batdongsan['Số toilet'].apply(lambda x: normalize_room(str(x)))\n",
        "batdongsan['Diện tích'] = batdongsan['Diện tích'].apply(lambda x: normalize_square(str(x)))\n",
        "batdongsan['Mức giá'] = batdongsan['Mức giá'].apply(lambda x: normalize_price(str(x)))"
      ],
      "metadata": {
        "id": "ANELgLWG6erU"
      },
      "execution_count": null,
      "outputs": []
    },
    {
      "cell_type": "code",
      "source": [
        ""
      ],
      "metadata": {
        "id": "OL9HzPQD9J2n"
      },
      "execution_count": null,
      "outputs": []
    },
    {
      "cell_type": "code",
      "source": [
        "show = pd.DataFrame(chotot[['Số phòng vệ sinh: ', 'Số phòng ngủ: ', 'Diện tích đất: ', 'Giá đề xuất']])\n",
        "show.head()"
      ],
      "metadata": {
        "colab": {
          "base_uri": "https://localhost:8080/",
          "height": 206
        },
        "id": "7D1uVHe-fhZi",
        "outputId": "dc068477-8f26-43bd-ed33-41026574c2f8"
      },
      "execution_count": null,
      "outputs": [
        {
          "output_type": "execute_result",
          "data": {
            "text/plain": [
              "  Số phòng vệ sinh:  Số phòng ngủ:  Diện tích đất:  Giá đề xuất\n",
              "0            1 phòng        2 phòng           38 m²     1,79 tỷ\n",
              "1                NaN        3 phòng           32 m²      2,4 tỷ\n",
              "2            2 phòng        2 phòng           46 m²     1,24 tỷ\n",
              "3            2 phòng        2 phòng           25 m²      2,6 tỷ\n",
              "4            2 phòng        2 phòng          161 m²     5,65 tỷ"
            ],
            "text/html": [
              "\n",
              "  <div id=\"df-53738a6c-e2f2-4ee2-910a-40378136caa6\">\n",
              "    <div class=\"colab-df-container\">\n",
              "      <div>\n",
              "<style scoped>\n",
              "    .dataframe tbody tr th:only-of-type {\n",
              "        vertical-align: middle;\n",
              "    }\n",
              "\n",
              "    .dataframe tbody tr th {\n",
              "        vertical-align: top;\n",
              "    }\n",
              "\n",
              "    .dataframe thead th {\n",
              "        text-align: right;\n",
              "    }\n",
              "</style>\n",
              "<table border=\"1\" class=\"dataframe\">\n",
              "  <thead>\n",
              "    <tr style=\"text-align: right;\">\n",
              "      <th></th>\n",
              "      <th>Số phòng vệ sinh:</th>\n",
              "      <th>Số phòng ngủ:</th>\n",
              "      <th>Diện tích đất:</th>\n",
              "      <th>Giá đề xuất</th>\n",
              "    </tr>\n",
              "  </thead>\n",
              "  <tbody>\n",
              "    <tr>\n",
              "      <th>0</th>\n",
              "      <td>1 phòng</td>\n",
              "      <td>2 phòng</td>\n",
              "      <td>38 m²</td>\n",
              "      <td>1,79 tỷ</td>\n",
              "    </tr>\n",
              "    <tr>\n",
              "      <th>1</th>\n",
              "      <td>NaN</td>\n",
              "      <td>3 phòng</td>\n",
              "      <td>32 m²</td>\n",
              "      <td>2,4 tỷ</td>\n",
              "    </tr>\n",
              "    <tr>\n",
              "      <th>2</th>\n",
              "      <td>2 phòng</td>\n",
              "      <td>2 phòng</td>\n",
              "      <td>46 m²</td>\n",
              "      <td>1,24 tỷ</td>\n",
              "    </tr>\n",
              "    <tr>\n",
              "      <th>3</th>\n",
              "      <td>2 phòng</td>\n",
              "      <td>2 phòng</td>\n",
              "      <td>25 m²</td>\n",
              "      <td>2,6 tỷ</td>\n",
              "    </tr>\n",
              "    <tr>\n",
              "      <th>4</th>\n",
              "      <td>2 phòng</td>\n",
              "      <td>2 phòng</td>\n",
              "      <td>161 m²</td>\n",
              "      <td>5,65 tỷ</td>\n",
              "    </tr>\n",
              "  </tbody>\n",
              "</table>\n",
              "</div>\n",
              "      <button class=\"colab-df-convert\" onclick=\"convertToInteractive('df-53738a6c-e2f2-4ee2-910a-40378136caa6')\"\n",
              "              title=\"Convert this dataframe to an interactive table.\"\n",
              "              style=\"display:none;\">\n",
              "        \n",
              "  <svg xmlns=\"http://www.w3.org/2000/svg\" height=\"24px\"viewBox=\"0 0 24 24\"\n",
              "       width=\"24px\">\n",
              "    <path d=\"M0 0h24v24H0V0z\" fill=\"none\"/>\n",
              "    <path d=\"M18.56 5.44l.94 2.06.94-2.06 2.06-.94-2.06-.94-.94-2.06-.94 2.06-2.06.94zm-11 1L8.5 8.5l.94-2.06 2.06-.94-2.06-.94L8.5 2.5l-.94 2.06-2.06.94zm10 10l.94 2.06.94-2.06 2.06-.94-2.06-.94-.94-2.06-.94 2.06-2.06.94z\"/><path d=\"M17.41 7.96l-1.37-1.37c-.4-.4-.92-.59-1.43-.59-.52 0-1.04.2-1.43.59L10.3 9.45l-7.72 7.72c-.78.78-.78 2.05 0 2.83L4 21.41c.39.39.9.59 1.41.59.51 0 1.02-.2 1.41-.59l7.78-7.78 2.81-2.81c.8-.78.8-2.07 0-2.86zM5.41 20L4 18.59l7.72-7.72 1.47 1.35L5.41 20z\"/>\n",
              "  </svg>\n",
              "      </button>\n",
              "      \n",
              "  <style>\n",
              "    .colab-df-container {\n",
              "      display:flex;\n",
              "      flex-wrap:wrap;\n",
              "      gap: 12px;\n",
              "    }\n",
              "\n",
              "    .colab-df-convert {\n",
              "      background-color: #E8F0FE;\n",
              "      border: none;\n",
              "      border-radius: 50%;\n",
              "      cursor: pointer;\n",
              "      display: none;\n",
              "      fill: #1967D2;\n",
              "      height: 32px;\n",
              "      padding: 0 0 0 0;\n",
              "      width: 32px;\n",
              "    }\n",
              "\n",
              "    .colab-df-convert:hover {\n",
              "      background-color: #E2EBFA;\n",
              "      box-shadow: 0px 1px 2px rgba(60, 64, 67, 0.3), 0px 1px 3px 1px rgba(60, 64, 67, 0.15);\n",
              "      fill: #174EA6;\n",
              "    }\n",
              "\n",
              "    [theme=dark] .colab-df-convert {\n",
              "      background-color: #3B4455;\n",
              "      fill: #D2E3FC;\n",
              "    }\n",
              "\n",
              "    [theme=dark] .colab-df-convert:hover {\n",
              "      background-color: #434B5C;\n",
              "      box-shadow: 0px 1px 3px 1px rgba(0, 0, 0, 0.15);\n",
              "      filter: drop-shadow(0px 1px 2px rgba(0, 0, 0, 0.3));\n",
              "      fill: #FFFFFF;\n",
              "    }\n",
              "  </style>\n",
              "\n",
              "      <script>\n",
              "        const buttonEl =\n",
              "          document.querySelector('#df-53738a6c-e2f2-4ee2-910a-40378136caa6 button.colab-df-convert');\n",
              "        buttonEl.style.display =\n",
              "          google.colab.kernel.accessAllowed ? 'block' : 'none';\n",
              "\n",
              "        async function convertToInteractive(key) {\n",
              "          const element = document.querySelector('#df-53738a6c-e2f2-4ee2-910a-40378136caa6');\n",
              "          const dataTable =\n",
              "            await google.colab.kernel.invokeFunction('convertToInteractive',\n",
              "                                                     [key], {});\n",
              "          if (!dataTable) return;\n",
              "\n",
              "          const docLinkHtml = 'Like what you see? Visit the ' +\n",
              "            '<a target=\"_blank\" href=https://colab.research.google.com/notebooks/data_table.ipynb>data table notebook</a>'\n",
              "            + ' to learn more about interactive tables.';\n",
              "          element.innerHTML = '';\n",
              "          dataTable['output_type'] = 'display_data';\n",
              "          await google.colab.output.renderOutput(dataTable, element);\n",
              "          const docLink = document.createElement('div');\n",
              "          docLink.innerHTML = docLinkHtml;\n",
              "          element.appendChild(docLink);\n",
              "        }\n",
              "      </script>\n",
              "    </div>\n",
              "  </div>\n",
              "  "
            ]
          },
          "metadata": {},
          "execution_count": 28
        }
      ]
    },
    {
      "cell_type": "code",
      "source": [
        "show = pd.DataFrame(chotot[['Số phòng vệ sinh: ', 'Số phòng ngủ: ', 'Diện tích đất: ', 'Giá đề xuất']])\n",
        "show.head()"
      ],
      "metadata": {
        "colab": {
          "base_uri": "https://localhost:8080/",
          "height": 206
        },
        "id": "dVJ6VO86hbIl",
        "outputId": "4a17ad85-06de-4ef3-876c-741e3f4193ee"
      },
      "execution_count": null,
      "outputs": [
        {
          "output_type": "execute_result",
          "data": {
            "text/plain": [
              "  Số phòng vệ sinh:  Số phòng ngủ:   Diện tích đất:  Giá đề xuất\n",
              "0                  1              2             38.0      1790.0\n",
              "1  Chưa có thông tin              3             32.0      2400.0\n",
              "2                  2              2             46.0      1240.0\n",
              "3                  2              2             25.0      2600.0\n",
              "4                  2              2            161.0      5650.0"
            ],
            "text/html": [
              "\n",
              "  <div id=\"df-b52fa8fc-efcd-4b85-96b8-3232da98a37c\">\n",
              "    <div class=\"colab-df-container\">\n",
              "      <div>\n",
              "<style scoped>\n",
              "    .dataframe tbody tr th:only-of-type {\n",
              "        vertical-align: middle;\n",
              "    }\n",
              "\n",
              "    .dataframe tbody tr th {\n",
              "        vertical-align: top;\n",
              "    }\n",
              "\n",
              "    .dataframe thead th {\n",
              "        text-align: right;\n",
              "    }\n",
              "</style>\n",
              "<table border=\"1\" class=\"dataframe\">\n",
              "  <thead>\n",
              "    <tr style=\"text-align: right;\">\n",
              "      <th></th>\n",
              "      <th>Số phòng vệ sinh:</th>\n",
              "      <th>Số phòng ngủ:</th>\n",
              "      <th>Diện tích đất:</th>\n",
              "      <th>Giá đề xuất</th>\n",
              "    </tr>\n",
              "  </thead>\n",
              "  <tbody>\n",
              "    <tr>\n",
              "      <th>0</th>\n",
              "      <td>1</td>\n",
              "      <td>2</td>\n",
              "      <td>38.0</td>\n",
              "      <td>1790.0</td>\n",
              "    </tr>\n",
              "    <tr>\n",
              "      <th>1</th>\n",
              "      <td>Chưa có thông tin</td>\n",
              "      <td>3</td>\n",
              "      <td>32.0</td>\n",
              "      <td>2400.0</td>\n",
              "    </tr>\n",
              "    <tr>\n",
              "      <th>2</th>\n",
              "      <td>2</td>\n",
              "      <td>2</td>\n",
              "      <td>46.0</td>\n",
              "      <td>1240.0</td>\n",
              "    </tr>\n",
              "    <tr>\n",
              "      <th>3</th>\n",
              "      <td>2</td>\n",
              "      <td>2</td>\n",
              "      <td>25.0</td>\n",
              "      <td>2600.0</td>\n",
              "    </tr>\n",
              "    <tr>\n",
              "      <th>4</th>\n",
              "      <td>2</td>\n",
              "      <td>2</td>\n",
              "      <td>161.0</td>\n",
              "      <td>5650.0</td>\n",
              "    </tr>\n",
              "  </tbody>\n",
              "</table>\n",
              "</div>\n",
              "      <button class=\"colab-df-convert\" onclick=\"convertToInteractive('df-b52fa8fc-efcd-4b85-96b8-3232da98a37c')\"\n",
              "              title=\"Convert this dataframe to an interactive table.\"\n",
              "              style=\"display:none;\">\n",
              "        \n",
              "  <svg xmlns=\"http://www.w3.org/2000/svg\" height=\"24px\"viewBox=\"0 0 24 24\"\n",
              "       width=\"24px\">\n",
              "    <path d=\"M0 0h24v24H0V0z\" fill=\"none\"/>\n",
              "    <path d=\"M18.56 5.44l.94 2.06.94-2.06 2.06-.94-2.06-.94-.94-2.06-.94 2.06-2.06.94zm-11 1L8.5 8.5l.94-2.06 2.06-.94-2.06-.94L8.5 2.5l-.94 2.06-2.06.94zm10 10l.94 2.06.94-2.06 2.06-.94-2.06-.94-.94-2.06-.94 2.06-2.06.94z\"/><path d=\"M17.41 7.96l-1.37-1.37c-.4-.4-.92-.59-1.43-.59-.52 0-1.04.2-1.43.59L10.3 9.45l-7.72 7.72c-.78.78-.78 2.05 0 2.83L4 21.41c.39.39.9.59 1.41.59.51 0 1.02-.2 1.41-.59l7.78-7.78 2.81-2.81c.8-.78.8-2.07 0-2.86zM5.41 20L4 18.59l7.72-7.72 1.47 1.35L5.41 20z\"/>\n",
              "  </svg>\n",
              "      </button>\n",
              "      \n",
              "  <style>\n",
              "    .colab-df-container {\n",
              "      display:flex;\n",
              "      flex-wrap:wrap;\n",
              "      gap: 12px;\n",
              "    }\n",
              "\n",
              "    .colab-df-convert {\n",
              "      background-color: #E8F0FE;\n",
              "      border: none;\n",
              "      border-radius: 50%;\n",
              "      cursor: pointer;\n",
              "      display: none;\n",
              "      fill: #1967D2;\n",
              "      height: 32px;\n",
              "      padding: 0 0 0 0;\n",
              "      width: 32px;\n",
              "    }\n",
              "\n",
              "    .colab-df-convert:hover {\n",
              "      background-color: #E2EBFA;\n",
              "      box-shadow: 0px 1px 2px rgba(60, 64, 67, 0.3), 0px 1px 3px 1px rgba(60, 64, 67, 0.15);\n",
              "      fill: #174EA6;\n",
              "    }\n",
              "\n",
              "    [theme=dark] .colab-df-convert {\n",
              "      background-color: #3B4455;\n",
              "      fill: #D2E3FC;\n",
              "    }\n",
              "\n",
              "    [theme=dark] .colab-df-convert:hover {\n",
              "      background-color: #434B5C;\n",
              "      box-shadow: 0px 1px 3px 1px rgba(0, 0, 0, 0.15);\n",
              "      filter: drop-shadow(0px 1px 2px rgba(0, 0, 0, 0.3));\n",
              "      fill: #FFFFFF;\n",
              "    }\n",
              "  </style>\n",
              "\n",
              "      <script>\n",
              "        const buttonEl =\n",
              "          document.querySelector('#df-b52fa8fc-efcd-4b85-96b8-3232da98a37c button.colab-df-convert');\n",
              "        buttonEl.style.display =\n",
              "          google.colab.kernel.accessAllowed ? 'block' : 'none';\n",
              "\n",
              "        async function convertToInteractive(key) {\n",
              "          const element = document.querySelector('#df-b52fa8fc-efcd-4b85-96b8-3232da98a37c');\n",
              "          const dataTable =\n",
              "            await google.colab.kernel.invokeFunction('convertToInteractive',\n",
              "                                                     [key], {});\n",
              "          if (!dataTable) return;\n",
              "\n",
              "          const docLinkHtml = 'Like what you see? Visit the ' +\n",
              "            '<a target=\"_blank\" href=https://colab.research.google.com/notebooks/data_table.ipynb>data table notebook</a>'\n",
              "            + ' to learn more about interactive tables.';\n",
              "          element.innerHTML = '';\n",
              "          dataTable['output_type'] = 'display_data';\n",
              "          await google.colab.output.renderOutput(dataTable, element);\n",
              "          const docLink = document.createElement('div');\n",
              "          docLink.innerHTML = docLinkHtml;\n",
              "          element.appendChild(docLink);\n",
              "        }\n",
              "      </script>\n",
              "    </div>\n",
              "  </div>\n",
              "  "
            ]
          },
          "metadata": {},
          "execution_count": 30
        }
      ]
    },
    {
      "cell_type": "code",
      "source": [
        "alnum_tok = sm.AlphanumericTokenizer()\n",
        "jac = sm.Jaccard()\n",
        "def matchingScore(s1, s2, value, p):\n",
        "  return (1-p)*jac.get_sim_score(alnum_tok.tokenize(s1), alnum_tok.tokenize(s2)) + p*value"
      ],
      "metadata": {
        "id": "IYqIAjSBsBl0"
      },
      "execution_count": null,
      "outputs": []
    },
    {
      "cell_type": "code",
      "source": [
        "chotot_columns = chotot.columns\n",
        "mapping = {}\n",
        "for i in range(len(chotot_columns)):\n",
        "    temp_Arr = chotot[chotot.columns[i]].dropna().tolist()\n",
        "    for j in temp_Arr:\n",
        "      if (isPhoneFormat(str(j))):\n",
        "        mapping[chotot_columns[i]] = ['Số điện thoại', matchingScore(chotot_columns[i], 'Số điện thoại', 1, 0.7)]\n",
        "        break\n",
        "      if (isImageFormat(str(j))):\n",
        "        mapping[chotot_columns[i]] = ['Ảnh', matchingScore(chotot_columns[i], 'Ảnh', 1, 0.7)]\n",
        "        break\n",
        "      if (URLFormat(str(j))):\n",
        "        mapping[chotot_columns[i]] = ['Original Link', matchingScore(chotot_columns[i], 'Original Link', 1, 0.7)]\n",
        "        break"
      ],
      "metadata": {
        "id": "8j-PrSQPif-m"
      },
      "execution_count": null,
      "outputs": []
    },
    {
      "cell_type": "code",
      "source": [
        "mapping['Link nguồn'] = ['Original Link', 0.7749999999999999]\n",
        "mapping['Ảnh nhà'] = ['Ảnh', 1.0]\n",
        "mapping['Liên lạc'] = ['Số điện thoại', 0.7428571428571428]\n",
        "mapping['Diện tích đất: '] = ['Diện tích', 1.0]\n",
        "mapping['Giá đề xuất'] = ['Giá', 0.8666666666666666]\n",
        "mapping['Số phòng ngủ: '] = ['Số phòng ngủ', 1.0]\n",
        "mapping['Số phòng vệ sinh: '] = ['Số phòng ngủ', 0.88]\n",
        "mapping['Người bán'] = ['Tên người bán', 0.6719810209460296]\n",
        "mapping['Địa chỉ'] = ['Địa chỉ', 0.8299552557376733]\n",
        "mapping['Giấy tờ pháp lý: '] = ['Pháp lý', 0.6313472153887432]\n",
        "mapping['Tên bài đăng'] = ['Tiêu đề', 0.5439927952479585]\n",
        "mapping['Chi tiết'] = ['Mô tả', 0.6132754312790492]\n",
        "mapping['Tình trạng nội thất: '] = ['Nội thất', 0.6257582521429083]\n",
        "mapping['Hướng cửa chính'] = ['Hướng nhà', 0.6774031765866391]"
      ],
      "metadata": {
        "id": "gx47Fv8F9YtT"
      },
      "execution_count": null,
      "outputs": []
    },
    {
      "cell_type": "code",
      "source": [
        "for item in mapping:\n",
        "  print(str(item) + '----' + str(mapping[item]))"
      ],
      "metadata": {
        "colab": {
          "base_uri": "https://localhost:8080/"
        },
        "id": "33UB00zX8fZy",
        "outputId": "4a47b62c-dc24-4e43-93ff-1871141b06e4"
      },
      "execution_count": null,
      "outputs": [
        {
          "output_type": "stream",
          "name": "stdout",
          "text": [
            "Link nguồn----['Original Link', 0.7749999999999999]\n",
            "Ảnh nhà----['Ảnh', 1.0]\n",
            "Liên lạc----['Số điện thoại', 0.7428571428571428]\n",
            "Diện tích đất: ----['Diện tích', 1.0]\n",
            "Giá đề xuất----['Giá', 0.8666666666666666]\n",
            "Số phòng ngủ: ----['Số phòng ngủ', 1.0]\n",
            "Số phòng vệ sinh: ----['Số phòng ngủ', 0.88]\n",
            "Người bán----['Tên người bán', 0.6719810209460296]\n",
            "Địa chỉ----['Địa chỉ', 0.8299552557376733]\n",
            "Giấy tờ pháp lý: ----['Pháp lý', 0.6313472153887432]\n",
            "Tên bài đăng----['Tiêu đề', 0.5439927952479585]\n",
            "Chi tiết----['Mô tả', 0.6132754312790492]\n",
            "Tình trạng nội thất: ----['Nội thất', 0.6257582521429083]\n",
            "Hướng cửa chính----['Hướng nhà', 0.6774031765866391]\n"
          ]
        }
      ]
    }
  ]
}