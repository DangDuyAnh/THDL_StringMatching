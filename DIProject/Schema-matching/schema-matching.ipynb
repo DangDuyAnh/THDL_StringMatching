{
 "cells": [
  {
   "cell_type": "code",
   "execution_count": null,
   "metadata": {},
   "outputs": [],
   "source": [
    "import numpy,datetime,re\n",
    "import pandas as pd\n",
    "import numpy as np\n",
    "from fuzzywuzzy import fuzz\n",
    "from fuzzywuzzy import process\n",
    "from difflib import SequenceMatcher"
   ]
  },
  {
   "cell_type": "code",
   "execution_count": 2,
   "metadata": {
    "collapsed": true
   },
   "outputs": [],
   "source": [
    "tentative_engagements = []\n",
    "free_imdbs = []\n",
    "corresponacy1 = []"
   ]
  },
  {
   "cell_type": "code",
   "execution_count": 3,
   "metadata": {
    "collapsed": true
   },
   "outputs": [],
   "source": [
    "def importdatasets():\n",
    "    #READ DATA:\n",
    "    IMDB_DF = pd.read_csv(\"imdb.csv\")\n",
    "    #for task2\n",
    "    IMDB_DF_SAMPLE = IMDB_DF.sample(100).astype(str)\n",
    "\n",
    "    imdb_header = list(IMDB_DF.columns.values)\n",
    "\n",
    "    #imdb_header for task 1\n",
    "    tbl1 = np.array(imdb_header)\n",
    "\n",
    "    ROTTEN_TOMATOES_DF = pd.read_csv(\"rotten_tomatoes.csv\")\n",
    "    #for task2\n",
    "    ROTTEN_TOMATOES_DF_SAMPLE = ROTTEN_TOMATOES_DF.sample(100).astype(str)\n",
    "    rt_header = list(ROTTEN_TOMATOES_DF.columns.values)\n",
    "    #rt_header for task1\n",
    "    tbl2 = np.array(rt_header)\n",
    "\n",
    "    return IMDB_DF_SAMPLE,tbl1,ROTTEN_TOMATOES_DF_SAMPLE,tbl2"
   ]
  },
  {
   "cell_type": "code",
   "execution_count": 4,
   "metadata": {
    "collapsed": true
   },
   "outputs": [],
   "source": [
    "def matchingtablebyheaders(tbl1,tbl2):\n",
    "          #creation array to add sort index of matching\n",
    "    # For matching\n",
    "    Pref=np.zeros((len(tbl1),len(tbl2)))\n",
    "        #assign the matching ratio between tbl1 and tbl2\n",
    "    for i in range(len(tbl1)):\n",
    "        for j in range(len(tbl2)):\n",
    "            Pref[i,j] = np.int(100*SequenceMatcher(None,tbl1[i],tbl2[j]).ratio())\n",
    "    #df = pd.DataFrame(Pref)\n",
    "    #df.to_csv(\"file_path.csv\")\n",
    "    return Pref"
   ]
  },
  {
   "cell_type": "code",
   "execution_count": 5,
   "metadata": {
    "collapsed": true
   },
   "outputs": [],
   "source": [
    "def listofpreferencespertable(tbl1,tbl2,Pref):\n",
    "        #for Tomatoes\n",
    "    ipref_tom=np.zeros((len(tbl1),len(tbl2)),dtype=np.int8)\n",
    "    #for IMdb\n",
    "    ipref_imdb=np.zeros((len(tbl2),len(tbl1)),dtype=np.int8)\n",
    "    pref_imdb=np.zeros((len(tbl2),len(tbl1)),dtype=np.int8)\n",
    "    preferred_rankings_tomatoes = {}\n",
    "    preferred_rankings_imdb = {}\n",
    "    #create list of preferred_rankings_tomatoes with header\n",
    "    #assign the array indexs of Pref sorted by the actual values decending based on the lenght of tbl2 (17)\n",
    "    for i in range(len(tbl2)):\n",
    "        ipref_tom[:,i]=np.argsort(Pref[:,i])\n",
    "        ipref_tom[:,i]=ipref_tom[::-1,i]\n",
    "        preferred_rankings_tomatoes[i] = ipref_tom[:,i]\n",
    "        #pref_tom[:,i]=np.sort(Pref[:,i])\n",
    "        #pref_tom[:,i]=pref_tom[::-1,i]\n",
    "    #ipref_tom\n",
    "\n",
    "    #create list of preferred_rankings_Imdb with header\n",
    "    #assign the array indexs of Pref sorted by the actual values decending based on the lenght of tbl1 (13)\n",
    "    for i in range(len(tbl1)):\n",
    "        #get indexs values of rows and store them in the rows as well\n",
    "        ipref_imdb[:,i] = np.argsort(Pref[i,:])\n",
    "        ipref_imdb[:,i] = ipref_imdb[::-1,i]\n",
    "        preferred_rankings_imdb[i] = ipref_imdb[:,i]\n",
    "        #pref_imdb[:,i] = np.sort(Pref[i,:])\n",
    "      #  pref_imdb[:,i] = pref_imdb[::-1,i]\n",
    "    #ipref_imdb\n",
    "    return preferred_rankings_imdb,preferred_rankings_tomatoes"
   ]
  },
  {
   "cell_type": "code",
   "execution_count": 6,
   "metadata": {
    "collapsed": true
   },
   "outputs": [],
   "source": [
    "#Imdb which still need to propose and get accepted successfully\n",
    "#Keep track of the headers that \"may\" end up together\n",
    "def init_free_imdbs(preferred_rankings_imdb):\n",
    "    #corresponacy1 = list.clear()\n",
    "    #'''Initialize the arrays of tomates and imdbs to represent that they're all initially free and not engaged'''\n",
    "    for imdb in preferred_rankings_imdb.keys():\n",
    "        free_imdbs.append(imdb)"
   ]
  },
  {
   "cell_type": "code",
   "execution_count": 7,
   "metadata": {
    "collapsed": true
   },
   "outputs": [],
   "source": [
    "def begin_matching(imdb,preferred_rankings_imdb,preferred_rankings_tomatoes):\n",
    "    #  '''Find the first free Tomaten available to a Imdb at any given time'''\n",
    "    #print(\"DEALING WITH %s\"%(imdb))\n",
    "    #print(preferred_rankings_imdb[imdb])\n",
    "    for tomate in preferred_rankings_imdb[imdb]:\n",
    "        #Boolean for whether tomate is taken or not\n",
    "        taken_match = [couple for couple in tentative_engagements if tomate == couple [:][1]]\n",
    "        if (len(taken_match) == 0):\n",
    "            #tentatively engage the man and woman\n",
    "            tentative_engagements.append([imdb, tomate])\n",
    "            free_imdbs.remove(imdb)\n",
    "            #print('%s is no longer a free imdb and is now tentatively engaged to %s'%( imdb, tomate))\n",
    "            break\n",
    "        elif (len(taken_match) > 0):\n",
    "            #print('%s is taken already..'%(tomate))\n",
    "            #print('%s tttt..'%(taken_match[0][0]))\n",
    "            current_imdb = list(preferred_rankings_tomatoes[tomate].tolist()).index(taken_match[0][0])\n",
    "            potential_imdb = list(preferred_rankings_tomatoes[tomate].tolist()).index(imdb)\n",
    "            #print('potential_imdb %s..'%(current_imdb))\n",
    "            if (current_imdb < potential_imdb):\n",
    "                ii=[]\n",
    "                #print('Tomataen\\'s satisfied with %s..'%(taken_match[0][0]))\n",
    "            else: \n",
    "                #print('%s is better than %s'%(imdb, taken_match[0][0]))\n",
    "                #print('Making %s free again.. and tentatively engaging %s and %s'%(taken_match[0][0], imdb, tomate))\n",
    "                #The new imdb is engaged\n",
    "                free_imdbs.remove(imdb)\n",
    "                #The old imdb is now single\n",
    "                free_imdbs.append(taken_match[0][0])\n",
    "                #Update the fiance of the tomaten (tentatively)\n",
    "                taken_match[0][0] = imdb\n",
    "                break"
   ]
  },
  {
   "cell_type": "code",
   "execution_count": 8,
   "metadata": {
    "collapsed": true
   },
   "outputs": [],
   "source": [
    "def stable_matching(preferred_rankings_imdb,preferred_rankings_tomatoes):\n",
    "    '''Matching algorithm until stable match terminates'''\n",
    "    while (len(free_imdbs) > 0):\n",
    "        for imdb in free_imdbs:\n",
    "            begin_matching(imdb,preferred_rankings_imdb,preferred_rankings_tomatoes)"
   ]
  },
  {
   "cell_type": "code",
   "execution_count": 9,
   "metadata": {
    "collapsed": true
   },
   "outputs": [],
   "source": [
    "def check_short_matching(COL1,COL2):\n",
    "    rate = 0.0\n",
    "    if str(COL1) == 'nan' or str(COL2) == 'nan' :\n",
    "        return 0\n",
    "    COL1 = str(COL1)\n",
    "    COL2 = str(COL2)\n",
    "    sw = (fuzz.SequenceMatcher(None,COL1, COL2).ratio())\n",
    "    return sw #/(max(len(COL1),len(COL2))*1.0)"
   ]
  },
  {
   "cell_type": "code",
   "execution_count": 10,
   "metadata": {
    "collapsed": true
   },
   "outputs": [],
   "source": [
    "def check_match(st1,st2):\n",
    "    str1 = np.array((st1.values).astype(str))\n",
    "    str2 = np.array((st2.values).astype(str))\n",
    "    ret = np.zeros((len(str1),len(str2)))\n",
    "    for i in range(len(str1)):\n",
    "        for j in range(len(str2)):\n",
    "            ret[i,j] = check_short_matching(str1[i],str2[j])\n",
    "    return numpy.average(ret)"
   ]
  },
  {
   "cell_type": "code",
   "execution_count": 19,
   "metadata": {
    "collapsed": true
   },
   "outputs": [],
   "source": [
    "def outputforcolumns(tbl1,tbl2,Pref):\n",
    "    i = 0\n",
    "    for item in tentative_engagements:\n",
    "        matching=Pref[item[0],item[1]]\n",
    "        if(matching > 50.0):\n",
    "            corresponacy1.append(item)\n",
    "            print(i ,'. CORRECT \\t(',tbl1[item[0]],' - ',tbl2[item[1]],') with matching',matching, '%')\n",
    "            i+=1\n",
    "        else:\n",
    "                print(i,'. Wrong \\t(',tbl1[item[0]],' - ',tbl2[item[1]],')with matching',matching, '%')\n",
    "                i+=1\n",
    "    found =len(corresponacy1) - 1\n",
    "    print('A:Number of the discovered correspondences that are in G(withoutID)',found)\n",
    "    print('B:Number of all the discovered correspondences',len(corresponacy1))\n",
    "    print('precision(A/B):',found/len(corresponacy1)*100)\n",
    "    print('recall(A/Number of all the actual correspondences = 10):',(found/10)*100)\n",
    "    "
   ]
  },
  {
   "cell_type": "code",
   "execution_count": null,
   "metadata": {},
   "outputs": [],
   "source": [
    "def main1():\n",
    "    tentative_engagements.clear()\n",
    "    free_imdbs.clear()\n",
    "    corresponacy1.clear()\n",
    "    #add data\n",
    "    IMDB_DF_SAMPLE,tbl1,ROTTEN_TOMATOES_DF_SAMPLE,tbl2=importdatasets()\n",
    "    #creation templates\n",
    "    Pref=matchingtablebyheaders(tbl1,tbl2)\n",
    "    preferred_rankings_imdb,preferred_rankings_tomatoes=listofpreferencespertable(tbl1,tbl2,Pref)\n",
    "   # print(preferred_rankings_tomatoes)\n",
    "    init_free_imdbs(preferred_rankings_imdb)\n",
    "    stable_matching(preferred_rankings_imdb,preferred_rankings_tomatoes)\n",
    "    print(tentative_engagements)\n",
    "    outputforcolumns(tbl1,tbl2,Pref)\n",
    "    \n",
    "    \n",
    "main1()"
   ]
  },
  {
   "cell_type": "code",
   "execution_count": 21,
   "metadata": {
    "collapsed": true
   },
   "outputs": [],
   "source": [
    "def outputforvalues(tbl1,tbl2,Pref):\n",
    "    i = 0\n",
    "    for item in tentative_engagements:\n",
    "        matching=Pref[item[0],item[1]]\n",
    "        if(matching > 0.0):\n",
    "            corresponacy1.append(item)\n",
    "            print(i ,'. CORRECT \\t(',tbl1[item[0]],' - ',tbl2[item[1]],')with matching',matching, '%')\n",
    "            i+=1\n",
    "        else:\n",
    "                print(i,'. Wrong \\t(',tbl1[item[0]],' - ',tbl2[item[1]],')with matching',matching, '%')\n",
    "                i+=1\n",
    "    found =len(corresponacy1) - 1\n",
    "    print('A:Number of the discovered correspondences that are in G(withoutID)',found)\n",
    "    print('B:Number of all the discovered correspondences',len(corresponacy1))\n",
    "    print('precision(A/B):',found/len(corresponacy1)*100)\n",
    "    print('recall(A/Number of all the actual correspondences = 10):',(found/10)*100)"
   ]
  },
  {
   "cell_type": "code",
   "execution_count": null,
   "metadata": {
    "collapsed": true
   },
   "outputs": [],
   "source": []
  }
 ],
 "metadata": {
  "kernelspec": {
   "display_name": "Python 3",
   "language": "python",
   "name": "python3"
  },
  "language_info": {
   "codemirror_mode": {
    "name": "ipython",
    "version": 3
   },
   "file_extension": ".py",
   "mimetype": "text/x-python",
   "name": "python",
   "nbconvert_exporter": "python",
   "pygments_lexer": "ipython3",
   "version": "3.8.5"
  }
 },
 "nbformat": 4,
 "nbformat_minor": 2
}
